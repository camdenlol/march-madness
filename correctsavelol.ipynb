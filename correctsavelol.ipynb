{
  "nbformat": 4,
  "nbformat_minor": 0,
  "metadata": {
    "colab": {
      "provenance": [],
      "include_colab_link": true
    },
    "kernelspec": {
      "name": "python3",
      "display_name": "Python 3"
    },
    "language_info": {
      "name": "python"
    }
  },
  "cells": [
    {
      "cell_type": "markdown",
      "metadata": {
        "id": "view-in-github",
        "colab_type": "text"
      },
      "source": [
        "<a href=\"https://colab.research.google.com/github/camdenlol/march-madness/blob/main/correctsavelol.ipynb\" target=\"_parent\"><img src=\"https://colab.research.google.com/assets/colab-badge.svg\" alt=\"Open In Colab\"/></a>"
      ]
    },
    {
      "cell_type": "code",
      "execution_count": 1,
      "metadata": {
        "id": "U5UkZQjLJ1ol",
        "colab": {
          "base_uri": "https://localhost:8080/"
        },
        "outputId": "a2e18456-8b43-4a1b-f311-d088d193650f"
      },
      "outputs": [
        {
          "output_type": "stream",
          "name": "stdout",
          "text": [
            "Collecting squarify\n",
            "  Downloading squarify-0.4.3-py3-none-any.whl (4.3 kB)\n",
            "Installing collected packages: squarify\n",
            "Successfully installed squarify-0.4.3\n"
          ]
        }
      ],
      "source": [
        "import pandas as pd\n",
        "import plotly.express as px\n",
        "import matplotlib.pyplot as plt\n",
        "import seaborn as sns\n",
        "!pip install squarify\n",
        "import squarify\n"
      ]
    },
    {
      "cell_type": "code",
      "source": [
        "df = pd.read_csv('https://raw.githubusercontent.com/camdenlol/march-madness/main/mrachie%20madnoss%20graphie.csv')\n",
        "df.head()"
      ],
      "metadata": {
        "id": "WuKfPJgjK0Zg",
        "outputId": "e58cfdf7-398d-4d8a-9584-ff3b211ba952",
        "colab": {
          "base_uri": "https://localhost:8080/",
          "height": 206
        }
      },
      "execution_count": 2,
      "outputs": [
        {
          "output_type": "execute_result",
          "data": {
            "text/plain": [
              "   seeding matchup  opponent\n",
              "0   No. 9 vs No. 8        79\n",
              "1  No. 11 vs No. 6        60\n",
              "2  No. 10 vs No. 7        60\n",
              "3  No. 12 vs No. 5        51\n",
              "4   No. 5 vs No. 4        37"
            ],
            "text/html": [
              "\n",
              "  <div id=\"df-76ccc17e-dae3-4ee2-89a0-1dd4a40d051b\" class=\"colab-df-container\">\n",
              "    <div>\n",
              "<style scoped>\n",
              "    .dataframe tbody tr th:only-of-type {\n",
              "        vertical-align: middle;\n",
              "    }\n",
              "\n",
              "    .dataframe tbody tr th {\n",
              "        vertical-align: top;\n",
              "    }\n",
              "\n",
              "    .dataframe thead th {\n",
              "        text-align: right;\n",
              "    }\n",
              "</style>\n",
              "<table border=\"1\" class=\"dataframe\">\n",
              "  <thead>\n",
              "    <tr style=\"text-align: right;\">\n",
              "      <th></th>\n",
              "      <th>seeding matchup</th>\n",
              "      <th>opponent</th>\n",
              "    </tr>\n",
              "  </thead>\n",
              "  <tbody>\n",
              "    <tr>\n",
              "      <th>0</th>\n",
              "      <td>No. 9 vs No. 8</td>\n",
              "      <td>79</td>\n",
              "    </tr>\n",
              "    <tr>\n",
              "      <th>1</th>\n",
              "      <td>No. 11 vs No. 6</td>\n",
              "      <td>60</td>\n",
              "    </tr>\n",
              "    <tr>\n",
              "      <th>2</th>\n",
              "      <td>No. 10 vs No. 7</td>\n",
              "      <td>60</td>\n",
              "    </tr>\n",
              "    <tr>\n",
              "      <th>3</th>\n",
              "      <td>No. 12 vs No. 5</td>\n",
              "      <td>51</td>\n",
              "    </tr>\n",
              "    <tr>\n",
              "      <th>4</th>\n",
              "      <td>No. 5 vs No. 4</td>\n",
              "      <td>37</td>\n",
              "    </tr>\n",
              "  </tbody>\n",
              "</table>\n",
              "</div>\n",
              "    <div class=\"colab-df-buttons\">\n",
              "\n",
              "  <div class=\"colab-df-container\">\n",
              "    <button class=\"colab-df-convert\" onclick=\"convertToInteractive('df-76ccc17e-dae3-4ee2-89a0-1dd4a40d051b')\"\n",
              "            title=\"Convert this dataframe to an interactive table.\"\n",
              "            style=\"display:none;\">\n",
              "\n",
              "  <svg xmlns=\"http://www.w3.org/2000/svg\" height=\"24px\" viewBox=\"0 -960 960 960\">\n",
              "    <path d=\"M120-120v-720h720v720H120Zm60-500h600v-160H180v160Zm220 220h160v-160H400v160Zm0 220h160v-160H400v160ZM180-400h160v-160H180v160Zm440 0h160v-160H620v160ZM180-180h160v-160H180v160Zm440 0h160v-160H620v160Z\"/>\n",
              "  </svg>\n",
              "    </button>\n",
              "\n",
              "  <style>\n",
              "    .colab-df-container {\n",
              "      display:flex;\n",
              "      gap: 12px;\n",
              "    }\n",
              "\n",
              "    .colab-df-convert {\n",
              "      background-color: #E8F0FE;\n",
              "      border: none;\n",
              "      border-radius: 50%;\n",
              "      cursor: pointer;\n",
              "      display: none;\n",
              "      fill: #1967D2;\n",
              "      height: 32px;\n",
              "      padding: 0 0 0 0;\n",
              "      width: 32px;\n",
              "    }\n",
              "\n",
              "    .colab-df-convert:hover {\n",
              "      background-color: #E2EBFA;\n",
              "      box-shadow: 0px 1px 2px rgba(60, 64, 67, 0.3), 0px 1px 3px 1px rgba(60, 64, 67, 0.15);\n",
              "      fill: #174EA6;\n",
              "    }\n",
              "\n",
              "    .colab-df-buttons div {\n",
              "      margin-bottom: 4px;\n",
              "    }\n",
              "\n",
              "    [theme=dark] .colab-df-convert {\n",
              "      background-color: #3B4455;\n",
              "      fill: #D2E3FC;\n",
              "    }\n",
              "\n",
              "    [theme=dark] .colab-df-convert:hover {\n",
              "      background-color: #434B5C;\n",
              "      box-shadow: 0px 1px 3px 1px rgba(0, 0, 0, 0.15);\n",
              "      filter: drop-shadow(0px 1px 2px rgba(0, 0, 0, 0.3));\n",
              "      fill: #FFFFFF;\n",
              "    }\n",
              "  </style>\n",
              "\n",
              "    <script>\n",
              "      const buttonEl =\n",
              "        document.querySelector('#df-76ccc17e-dae3-4ee2-89a0-1dd4a40d051b button.colab-df-convert');\n",
              "      buttonEl.style.display =\n",
              "        google.colab.kernel.accessAllowed ? 'block' : 'none';\n",
              "\n",
              "      async function convertToInteractive(key) {\n",
              "        const element = document.querySelector('#df-76ccc17e-dae3-4ee2-89a0-1dd4a40d051b');\n",
              "        const dataTable =\n",
              "          await google.colab.kernel.invokeFunction('convertToInteractive',\n",
              "                                                    [key], {});\n",
              "        if (!dataTable) return;\n",
              "\n",
              "        const docLinkHtml = 'Like what you see? Visit the ' +\n",
              "          '<a target=\"_blank\" href=https://colab.research.google.com/notebooks/data_table.ipynb>data table notebook</a>'\n",
              "          + ' to learn more about interactive tables.';\n",
              "        element.innerHTML = '';\n",
              "        dataTable['output_type'] = 'display_data';\n",
              "        await google.colab.output.renderOutput(dataTable, element);\n",
              "        const docLink = document.createElement('div');\n",
              "        docLink.innerHTML = docLinkHtml;\n",
              "        element.appendChild(docLink);\n",
              "      }\n",
              "    </script>\n",
              "  </div>\n",
              "\n",
              "\n",
              "<div id=\"df-4584d5b7-e2a7-461c-af2d-9ef8c6f7a009\">\n",
              "  <button class=\"colab-df-quickchart\" onclick=\"quickchart('df-4584d5b7-e2a7-461c-af2d-9ef8c6f7a009')\"\n",
              "            title=\"Suggest charts\"\n",
              "            style=\"display:none;\">\n",
              "\n",
              "<svg xmlns=\"http://www.w3.org/2000/svg\" height=\"24px\"viewBox=\"0 0 24 24\"\n",
              "     width=\"24px\">\n",
              "    <g>\n",
              "        <path d=\"M19 3H5c-1.1 0-2 .9-2 2v14c0 1.1.9 2 2 2h14c1.1 0 2-.9 2-2V5c0-1.1-.9-2-2-2zM9 17H7v-7h2v7zm4 0h-2V7h2v10zm4 0h-2v-4h2v4z\"/>\n",
              "    </g>\n",
              "</svg>\n",
              "  </button>\n",
              "\n",
              "<style>\n",
              "  .colab-df-quickchart {\n",
              "      --bg-color: #E8F0FE;\n",
              "      --fill-color: #1967D2;\n",
              "      --hover-bg-color: #E2EBFA;\n",
              "      --hover-fill-color: #174EA6;\n",
              "      --disabled-fill-color: #AAA;\n",
              "      --disabled-bg-color: #DDD;\n",
              "  }\n",
              "\n",
              "  [theme=dark] .colab-df-quickchart {\n",
              "      --bg-color: #3B4455;\n",
              "      --fill-color: #D2E3FC;\n",
              "      --hover-bg-color: #434B5C;\n",
              "      --hover-fill-color: #FFFFFF;\n",
              "      --disabled-bg-color: #3B4455;\n",
              "      --disabled-fill-color: #666;\n",
              "  }\n",
              "\n",
              "  .colab-df-quickchart {\n",
              "    background-color: var(--bg-color);\n",
              "    border: none;\n",
              "    border-radius: 50%;\n",
              "    cursor: pointer;\n",
              "    display: none;\n",
              "    fill: var(--fill-color);\n",
              "    height: 32px;\n",
              "    padding: 0;\n",
              "    width: 32px;\n",
              "  }\n",
              "\n",
              "  .colab-df-quickchart:hover {\n",
              "    background-color: var(--hover-bg-color);\n",
              "    box-shadow: 0 1px 2px rgba(60, 64, 67, 0.3), 0 1px 3px 1px rgba(60, 64, 67, 0.15);\n",
              "    fill: var(--button-hover-fill-color);\n",
              "  }\n",
              "\n",
              "  .colab-df-quickchart-complete:disabled,\n",
              "  .colab-df-quickchart-complete:disabled:hover {\n",
              "    background-color: var(--disabled-bg-color);\n",
              "    fill: var(--disabled-fill-color);\n",
              "    box-shadow: none;\n",
              "  }\n",
              "\n",
              "  .colab-df-spinner {\n",
              "    border: 2px solid var(--fill-color);\n",
              "    border-color: transparent;\n",
              "    border-bottom-color: var(--fill-color);\n",
              "    animation:\n",
              "      spin 1s steps(1) infinite;\n",
              "  }\n",
              "\n",
              "  @keyframes spin {\n",
              "    0% {\n",
              "      border-color: transparent;\n",
              "      border-bottom-color: var(--fill-color);\n",
              "      border-left-color: var(--fill-color);\n",
              "    }\n",
              "    20% {\n",
              "      border-color: transparent;\n",
              "      border-left-color: var(--fill-color);\n",
              "      border-top-color: var(--fill-color);\n",
              "    }\n",
              "    30% {\n",
              "      border-color: transparent;\n",
              "      border-left-color: var(--fill-color);\n",
              "      border-top-color: var(--fill-color);\n",
              "      border-right-color: var(--fill-color);\n",
              "    }\n",
              "    40% {\n",
              "      border-color: transparent;\n",
              "      border-right-color: var(--fill-color);\n",
              "      border-top-color: var(--fill-color);\n",
              "    }\n",
              "    60% {\n",
              "      border-color: transparent;\n",
              "      border-right-color: var(--fill-color);\n",
              "    }\n",
              "    80% {\n",
              "      border-color: transparent;\n",
              "      border-right-color: var(--fill-color);\n",
              "      border-bottom-color: var(--fill-color);\n",
              "    }\n",
              "    90% {\n",
              "      border-color: transparent;\n",
              "      border-bottom-color: var(--fill-color);\n",
              "    }\n",
              "  }\n",
              "</style>\n",
              "\n",
              "  <script>\n",
              "    async function quickchart(key) {\n",
              "      const quickchartButtonEl =\n",
              "        document.querySelector('#' + key + ' button');\n",
              "      quickchartButtonEl.disabled = true;  // To prevent multiple clicks.\n",
              "      quickchartButtonEl.classList.add('colab-df-spinner');\n",
              "      try {\n",
              "        const charts = await google.colab.kernel.invokeFunction(\n",
              "            'suggestCharts', [key], {});\n",
              "      } catch (error) {\n",
              "        console.error('Error during call to suggestCharts:', error);\n",
              "      }\n",
              "      quickchartButtonEl.classList.remove('colab-df-spinner');\n",
              "      quickchartButtonEl.classList.add('colab-df-quickchart-complete');\n",
              "    }\n",
              "    (() => {\n",
              "      let quickchartButtonEl =\n",
              "        document.querySelector('#df-4584d5b7-e2a7-461c-af2d-9ef8c6f7a009 button');\n",
              "      quickchartButtonEl.style.display =\n",
              "        google.colab.kernel.accessAllowed ? 'block' : 'none';\n",
              "    })();\n",
              "  </script>\n",
              "</div>\n",
              "\n",
              "    </div>\n",
              "  </div>\n"
            ],
            "application/vnd.google.colaboratory.intrinsic+json": {
              "type": "dataframe",
              "variable_name": "df",
              "summary": "{\n  \"name\": \"df\",\n  \"rows\": 55,\n  \"fields\": [\n    {\n      \"column\": \"seeding matchup\",\n      \"properties\": {\n        \"dtype\": \"string\",\n        \"num_unique_values\": 55,\n        \"samples\": [\n          \"No. 11 vs No. 1\",\n          \"No. 6 vs No. 3\",\n          \"No. 11 vs No. 2\"\n        ],\n        \"semantic_type\": \"\",\n        \"description\": \"\"\n      }\n    },\n    {\n      \"column\": \"opponent\",\n      \"properties\": {\n        \"dtype\": \"number\",\n        \"std\": 17,\n        \"min\": 1,\n        \"max\": 79,\n        \"num_unique_values\": 22,\n        \"samples\": [\n          79,\n          10,\n          24\n        ],\n        \"semantic_type\": \"\",\n        \"description\": \"\"\n      }\n    }\n  ]\n}"
            }
          },
          "metadata": {},
          "execution_count": 2
        }
      ]
    },
    {
      "cell_type": "code",
      "source": [
        "print(df.iloc[4,0])\n",
        "i = 4\n",
        "def f(i):\n",
        "  return int(df.iloc[i,0][4:6].strip()) + int(df.iloc[i,0][-2:].strip())\n",
        "\n",
        "f(i)"
      ],
      "metadata": {
        "colab": {
          "base_uri": "https://localhost:8080/"
        },
        "id": "VLPm5IWIK_Bp",
        "outputId": "e648d5c3-6d1d-4a65-90cf-b32d83fad598"
      },
      "execution_count": 3,
      "outputs": [
        {
          "output_type": "stream",
          "name": "stdout",
          "text": [
            "No. 5 vs No. 4\n"
          ]
        },
        {
          "output_type": "execute_result",
          "data": {
            "text/plain": [
              "9"
            ]
          },
          "metadata": {},
          "execution_count": 3
        }
      ]
    },
    {
      "cell_type": "code",
      "source": [
        "lst = []\n",
        "\n",
        "for i in range(55):\n",
        "  print(df.iloc[i,0])\n",
        "  print(f(i))\n",
        "  lst.append(f(i))\n",
        "\n",
        "lst"
      ],
      "metadata": {
        "id": "bo9SZwfoKtuO",
        "outputId": "87267c7c-c36f-4a98-8769-c66db0a66af0",
        "colab": {
          "base_uri": "https://localhost:8080/"
        }
      },
      "execution_count": 4,
      "outputs": [
        {
          "output_type": "stream",
          "name": "stdout",
          "text": [
            "No. 9 vs No. 8\n",
            "17\n",
            "No. 11 vs No. 6\n",
            "17\n",
            "No. 10 vs No. 7\n",
            "17\n",
            "No. 12 vs No. 5\n",
            "17\n",
            "No. 5 vs No. 4\n",
            "9\n",
            "No. 6 vs No. 3\n",
            "9\n",
            "No. 13 vs No. 4\n",
            "17\n",
            "No. 2 vs No. 1\n",
            "3\n",
            "No. 7 vs No. 2\n",
            "9\n",
            "No. 3 vs No. 2\n",
            "5\n",
            "No. 4 vs No. 1\n",
            "5\n",
            "No. 14 vs No. 3\n",
            "17\n",
            "No. 11 vs No. 3\n",
            "14\n",
            "No. 10 vs No. 2\n",
            "12\n",
            "No. 8 vs No. 1\n",
            "9\n",
            "No. 15 vs No. 2\n",
            "17\n",
            "No. 3 vs No. 1\n",
            "4\n",
            "No. 12 vs No. 4\n",
            "16\n",
            "No. 5 vs No. 1\n",
            "6\n",
            "No. 6 vs No. 2\n",
            "8\n",
            "No. 7 vs No. 3\n",
            "10\n",
            "No. 9 vs No. 1\n",
            "10\n",
            "No. 8 vs No. 4\n",
            "12\n",
            "No. 8 vs No. 2\n",
            "10\n",
            "No. 5 vs No. 2\n",
            "7\n",
            "No. 4 vs No. 2\n",
            "6\n",
            "No. 6 vs No. 1\n",
            "7\n",
            "No. 15 vs No. 7\n",
            "22\n",
            "No. 4 vs No. 3\n",
            "7\n",
            "No. 7 vs No. 4\n",
            "11\n",
            "No. 11 vs No. 7\n",
            "18\n",
            "No. 11 vs No. 1\n",
            "12\n",
            "No. 11 vs No. 2\n",
            "13\n",
            "No. 13 vs No. 12\n",
            "25\n",
            "No. 10 vs No. 3\n",
            "13\n",
            "No. 13 vs No. 5\n",
            "18\n",
            "No. 8 vs No. 5\n",
            "13\n",
            "No. 10 vs No. 6\n",
            "16\n",
            "No. 6 vs No. 4\n",
            "10\n",
            "No. 16 vs No. 1\n",
            "17\n",
            "No. 9 vs No. 4\n",
            "13\n",
            "No. 9 vs No. 5\n",
            "14\n",
            "No. 11 vs No. 10\n",
            "21\n",
            "No. 8 vs No. 7\n",
            "15\n",
            "No. 7 vs No. 6\n",
            "13\n",
            "No. 14 vs No. 6\n",
            "20\n",
            "No. 9 vs No. 3\n",
            "12\n",
            "No. 11 vs No. 9\n",
            "20\n",
            "No. 15 vs No. 3\n",
            "18\n",
            "No. 12 vs No. 8\n",
            "20\n",
            "No. 9 vs No. 2\n",
            "11\n",
            "No. 7 vs No. 1\n",
            "8\n",
            "No. 10 vs No. 1\n",
            "11\n",
            "No. 5 vs No. 3\n",
            "8\n",
            "No. 8 vs No. 6\n",
            "14\n"
          ]
        },
        {
          "output_type": "execute_result",
          "data": {
            "text/plain": [
              "[17,\n",
              " 17,\n",
              " 17,\n",
              " 17,\n",
              " 9,\n",
              " 9,\n",
              " 17,\n",
              " 3,\n",
              " 9,\n",
              " 5,\n",
              " 5,\n",
              " 17,\n",
              " 14,\n",
              " 12,\n",
              " 9,\n",
              " 17,\n",
              " 4,\n",
              " 16,\n",
              " 6,\n",
              " 8,\n",
              " 10,\n",
              " 10,\n",
              " 12,\n",
              " 10,\n",
              " 7,\n",
              " 6,\n",
              " 7,\n",
              " 22,\n",
              " 7,\n",
              " 11,\n",
              " 18,\n",
              " 12,\n",
              " 13,\n",
              " 25,\n",
              " 13,\n",
              " 18,\n",
              " 13,\n",
              " 16,\n",
              " 10,\n",
              " 17,\n",
              " 13,\n",
              " 14,\n",
              " 21,\n",
              " 15,\n",
              " 13,\n",
              " 20,\n",
              " 12,\n",
              " 20,\n",
              " 18,\n",
              " 20,\n",
              " 11,\n",
              " 8,\n",
              " 11,\n",
              " 8,\n",
              " 14]"
            ]
          },
          "metadata": {},
          "execution_count": 4
        }
      ]
    },
    {
      "cell_type": "code",
      "source": [
        "dict1 = {17:'cyan',9:'lime', 5:'purple',3:'pink'}"
      ],
      "metadata": {
        "id": "oa_gLoOaJypL"
      },
      "execution_count": 25,
      "outputs": []
    },
    {
      "cell_type": "code",
      "source": [
        "c = [dict1.get(l,'gold') for l in lst]\n",
        "\n",
        "c"
      ],
      "metadata": {
        "id": "pSkxfWWXLjbf",
        "outputId": "cca88146-041e-4b44-aaee-1362a18d9c61",
        "colab": {
          "base_uri": "https://localhost:8080/"
        }
      },
      "execution_count": 26,
      "outputs": [
        {
          "output_type": "execute_result",
          "data": {
            "text/plain": [
              "['cyan',\n",
              " 'cyan',\n",
              " 'cyan',\n",
              " 'cyan',\n",
              " 'lime',\n",
              " 'lime',\n",
              " 'cyan',\n",
              " 'pink',\n",
              " 'lime',\n",
              " 'purple',\n",
              " 'purple',\n",
              " 'cyan',\n",
              " 'gold',\n",
              " 'gold',\n",
              " 'lime',\n",
              " 'cyan',\n",
              " 'gold',\n",
              " 'gold',\n",
              " 'gold',\n",
              " 'gold',\n",
              " 'gold',\n",
              " 'gold',\n",
              " 'gold',\n",
              " 'gold',\n",
              " 'gold',\n",
              " 'gold',\n",
              " 'gold',\n",
              " 'gold',\n",
              " 'gold',\n",
              " 'gold',\n",
              " 'gold',\n",
              " 'gold',\n",
              " 'gold',\n",
              " 'gold',\n",
              " 'gold',\n",
              " 'gold',\n",
              " 'gold',\n",
              " 'gold',\n",
              " 'gold',\n",
              " 'cyan',\n",
              " 'gold',\n",
              " 'gold',\n",
              " 'gold',\n",
              " 'gold',\n",
              " 'gold',\n",
              " 'gold',\n",
              " 'gold',\n",
              " 'gold',\n",
              " 'gold',\n",
              " 'gold',\n",
              " 'gold',\n",
              " 'gold',\n",
              " 'gold',\n",
              " 'gold',\n",
              " 'gold']"
            ]
          },
          "metadata": {},
          "execution_count": 26
        }
      ]
    },
    {
      "cell_type": "code",
      "source": [
        "df.columns"
      ],
      "metadata": {
        "id": "pEQZjLGAIrvD",
        "outputId": "7369b092-65c0-44cc-af8a-14efb3a0dc48",
        "colab": {
          "base_uri": "https://localhost:8080/"
        }
      },
      "execution_count": 7,
      "outputs": [
        {
          "output_type": "execute_result",
          "data": {
            "text/plain": [
              "Index(['seeding matchup', 'opponent'], dtype='object')"
            ]
          },
          "metadata": {},
          "execution_count": 7
        }
      ]
    },
    {
      "cell_type": "code",
      "source": [
        "df.plot(kind='bar', title='Most Occuring March Madness Upsets', ylabel= 'Times Occurred', xlabel= 'seeding matchup', figsize=(11,10))"
      ],
      "metadata": {
        "colab": {
          "base_uri": "https://localhost:8080/",
          "height": 893
        },
        "id": "00V-eFqyNVX5",
        "outputId": "2360a72a-fe9e-42fd-c398-d3569e9e0321"
      },
      "execution_count": 8,
      "outputs": [
        {
          "output_type": "execute_result",
          "data": {
            "text/plain": [
              "<Axes: title={'center': 'Most Occuring March Madness Upsets'}, xlabel='seeding matchup', ylabel='Times Occurred'>"
            ]
          },
          "metadata": {},
          "execution_count": 8
        },
        {
          "output_type": "display_data",
          "data": {
            "text/plain": [
              "<Figure size 1100x1000 with 1 Axes>"
            ],
            "image/png": "[encoded data removed]"
          },
          "metadata": {}
        }
      ]
    },
    {
      "cell_type": "markdown",
      "source": [
        "\n",
        "\n",
        "MATPLOT LIB RRRAAAAAAAAAAAAAAAAAHHHHHH"
      ],
      "metadata": {
        "id": "RhdVHV-eOyJH"
      }
    },
    {
      "cell_type": "code",
      "source": [
        " def format_label(label):\n",
        "    parts = label.split(\"No. \")\n",
        "    if len(parts) == 2:\n",
        "        numbers = parts[1].split(\" vs \")\n",
        "        if len(numbers) == 2:\n",
        "            return f\"{numbers[0]} v {numbers[1]}\"\n",
        "    return label\n",
        "labels= df['seeding matchup']\n",
        "sizes = df['opponent']"
      ],
      "metadata": {
        "id": "eGW4pAP7-ApQ"
      },
      "execution_count": 42,
      "outputs": []
    },
    {
      "cell_type": "code",
      "source": [
        "from matplotlib import colormaps\n",
        "list(colormaps)"
      ],
      "metadata": {
        "id": "mqOdm43NbuGA",
        "outputId": "0e1ad165-96d1-471f-db88-9962d6148c87",
        "colab": {
          "base_uri": "https://localhost:8080/"
        }
      },
      "execution_count": 10,
      "outputs": [
        {
          "output_type": "execute_result",
          "data": {
            "text/plain": [
              "['magma',\n",
              " 'inferno',\n",
              " 'plasma',\n",
              " 'viridis',\n",
              " 'cividis',\n",
              " 'twilight',\n",
              " 'twilight_shifted',\n",
              " 'turbo',\n",
              " 'Blues',\n",
              " 'BrBG',\n",
              " 'BuGn',\n",
              " 'BuPu',\n",
              " 'CMRmap',\n",
              " 'GnBu',\n",
              " 'Greens',\n",
              " 'Greys',\n",
              " 'OrRd',\n",
              " 'Oranges',\n",
              " 'PRGn',\n",
              " 'PiYG',\n",
              " 'PuBu',\n",
              " 'PuBuGn',\n",
              " 'PuOr',\n",
              " 'PuRd',\n",
              " 'Purples',\n",
              " 'RdBu',\n",
              " 'RdGy',\n",
              " 'RdPu',\n",
              " 'RdYlBu',\n",
              " 'RdYlGn',\n",
              " 'Reds',\n",
              " 'Spectral',\n",
              " 'Wistia',\n",
              " 'YlGn',\n",
              " 'YlGnBu',\n",
              " 'YlOrBr',\n",
              " 'YlOrRd',\n",
              " 'afmhot',\n",
              " 'autumn',\n",
              " 'binary',\n",
              " 'bone',\n",
              " 'brg',\n",
              " 'bwr',\n",
              " 'cool',\n",
              " 'coolwarm',\n",
              " 'copper',\n",
              " 'cubehelix',\n",
              " 'flag',\n",
              " 'gist_earth',\n",
              " 'gist_gray',\n",
              " 'gist_heat',\n",
              " 'gist_ncar',\n",
              " 'gist_rainbow',\n",
              " 'gist_stern',\n",
              " 'gist_yarg',\n",
              " 'gnuplot',\n",
              " 'gnuplot2',\n",
              " 'gray',\n",
              " 'hot',\n",
              " 'hsv',\n",
              " 'jet',\n",
              " 'nipy_spectral',\n",
              " 'ocean',\n",
              " 'pink',\n",
              " 'prism',\n",
              " 'rainbow',\n",
              " 'seismic',\n",
              " 'spring',\n",
              " 'summer',\n",
              " 'terrain',\n",
              " 'winter',\n",
              " 'Accent',\n",
              " 'Dark2',\n",
              " 'Paired',\n",
              " 'Pastel1',\n",
              " 'Pastel2',\n",
              " 'Set1',\n",
              " 'Set2',\n",
              " 'Set3',\n",
              " 'tab10',\n",
              " 'tab20',\n",
              " 'tab20b',\n",
              " 'tab20c',\n",
              " 'magma_r',\n",
              " 'inferno_r',\n",
              " 'plasma_r',\n",
              " 'viridis_r',\n",
              " 'cividis_r',\n",
              " 'twilight_r',\n",
              " 'twilight_shifted_r',\n",
              " 'turbo_r',\n",
              " 'Blues_r',\n",
              " 'BrBG_r',\n",
              " 'BuGn_r',\n",
              " 'BuPu_r',\n",
              " 'CMRmap_r',\n",
              " 'GnBu_r',\n",
              " 'Greens_r',\n",
              " 'Greys_r',\n",
              " 'OrRd_r',\n",
              " 'Oranges_r',\n",
              " 'PRGn_r',\n",
              " 'PiYG_r',\n",
              " 'PuBu_r',\n",
              " 'PuBuGn_r',\n",
              " 'PuOr_r',\n",
              " 'PuRd_r',\n",
              " 'Purples_r',\n",
              " 'RdBu_r',\n",
              " 'RdGy_r',\n",
              " 'RdPu_r',\n",
              " 'RdYlBu_r',\n",
              " 'RdYlGn_r',\n",
              " 'Reds_r',\n",
              " 'Spectral_r',\n",
              " 'Wistia_r',\n",
              " 'YlGn_r',\n",
              " 'YlGnBu_r',\n",
              " 'YlOrBr_r',\n",
              " 'YlOrRd_r',\n",
              " 'afmhot_r',\n",
              " 'autumn_r',\n",
              " 'binary_r',\n",
              " 'bone_r',\n",
              " 'brg_r',\n",
              " 'bwr_r',\n",
              " 'cool_r',\n",
              " 'coolwarm_r',\n",
              " 'copper_r',\n",
              " 'cubehelix_r',\n",
              " 'flag_r',\n",
              " 'gist_earth_r',\n",
              " 'gist_gray_r',\n",
              " 'gist_heat_r',\n",
              " 'gist_ncar_r',\n",
              " 'gist_rainbow_r',\n",
              " 'gist_stern_r',\n",
              " 'gist_yarg_r',\n",
              " 'gnuplot_r',\n",
              " 'gnuplot2_r',\n",
              " 'gray_r',\n",
              " 'hot_r',\n",
              " 'hsv_r',\n",
              " 'jet_r',\n",
              " 'nipy_spectral_r',\n",
              " 'ocean_r',\n",
              " 'pink_r',\n",
              " 'prism_r',\n",
              " 'rainbow_r',\n",
              " 'seismic_r',\n",
              " 'spring_r',\n",
              " 'summer_r',\n",
              " 'terrain_r',\n",
              " 'winter_r',\n",
              " 'Accent_r',\n",
              " 'Dark2_r',\n",
              " 'Paired_r',\n",
              " 'Pastel1_r',\n",
              " 'Pastel2_r',\n",
              " 'Set1_r',\n",
              " 'Set2_r',\n",
              " 'Set3_r',\n",
              " 'tab10_r',\n",
              " 'tab20_r',\n",
              " 'tab20b_r',\n",
              " 'tab20c_r',\n",
              " 'rocket',\n",
              " 'rocket_r',\n",
              " 'mako',\n",
              " 'mako_r',\n",
              " 'icefire',\n",
              " 'icefire_r',\n",
              " 'vlag',\n",
              " 'vlag_r',\n",
              " 'flare',\n",
              " 'flare_r',\n",
              " 'crest',\n",
              " 'crest_r']"
            ]
          },
          "metadata": {},
          "execution_count": 10
        }
      ]
    },
    {
      "cell_type": "code",
      "source": [
        "plt.figure(figsize=(10, 6))\n",
        "squarify.plot(sizes=sizes, label=labels, color = c, alpha=0.6)\n",
        "plt.axis('off')\n",
        "plt.show()\n",
        "\n"
      ],
      "metadata": {
        "colab": {
          "base_uri": "https://localhost:8080/",
          "height": 499
        },
        "id": "tR8IkGzo7C2B",
        "outputId": "bfbfc3d6-da15-475f-ed22-02e15310a317"
      },
      "execution_count": 43,
      "outputs": [
        {
          "output_type": "display_data",
          "data": {
            "text/plain": [
              "<Figure size 1000x600 with 1 Axes>"
            ],
            "image/png": "[encoded data removed]"
          },
          "metadata": {}
        }
      ]
    },
    {
      "cell_type": "markdown",
      "source": [
        "the following was stolen from gpt\n"
      ],
      "metadata": {
        "id": "U94kMspIrn4l"
      }
    },
    {
      "cell_type": "code",
      "source": [
        "import csv\n",
        "import re\n",
        "import requests\n",
        "from io import StringIO\n",
        "\n",
        "# Function to convert strings to numbers using regex\n",
        "def convert_strings_to_numbers(string):\n",
        "    pattern = r'\\d+'\n",
        "    matches = re.findall(pattern, string)\n",
        "    return [int(match) for match in matches]  # Convert each match to an integer\n",
        "\n",
        "# URL of the CSV file on GitHub\n",
        "csv_url = \"https://raw.githubusercontent.com/camdenlol/march-madness/main/mrachie%20madnoss%20graphie.csv\"\n",
        "# Replace 'your_username', 'your_repository', and 'your_file.csv' with your GitHub details and CSV file name\n",
        "\n",
        "# Download the CSV file from GitHub\n",
        "response = requests.get(csv_url)\n",
        "if response.status_code == 200:\n",
        "    # Read the CSV content from the response\n",
        "    csv_content = response.text\n",
        "    # Use StringIO to create a file-like object\n",
        "    csv_file = StringIO(csv_content)\n",
        "\n",
        "    # Process the CSV file\n",
        "    reader = csv.reader(csv_file)\n",
        "    for row in reader:\n",
        "        # Assuming each row is a list of strings\n",
        "        numbers_in_row = []\n",
        "        for item in row:\n",
        "            numbers_in_item = convert_strings_to_numbers(item)\n",
        "            numbers_in_row.extend(numbers_in_item)\n",
        "        print(\"Numbers in row:\", numbers_in_row)\n",
        "else:\n",
        "    print(\"Failed to download the CSV file. Please check the URL.\")\n"
      ],
      "metadata": {
        "id": "QEGkGgdErsYk"
      },
      "execution_count": null,
      "outputs": []
    },
    {
      "cell_type": "markdown",
      "source": [
        "this was also robbed from chat gpt."
      ],
      "metadata": {
        "id": "kr-9B4jfuLnV"
      }
    },
    {
      "cell_type": "code",
      "source": [
        "import csv\n",
        "import re\n",
        "import requests\n",
        "from io import StringIO\n",
        "\n",
        "# Function to convert strings to numbers using regex\n",
        "def convert_strings_to_numbers(string):\n",
        "    pattern = r'\\d+'\n",
        "    matches = re.findall(pattern, string)\n",
        "    return [int(match) for match in matches]  # Convert each match to an integer\n",
        "\n",
        "# URL of the CSV file on GitHub\n",
        "csv_url = \"https://raw.githubusercontent.com/camdenlol/march-madness/main/mrachie%20madnoss%20graphie.csv\"\n",
        "# Replace 'your_username', 'your_repository', and 'your_file.csv' with your GitHub details and CSV file name\n",
        "\n",
        "# Download the CSV file from GitHub\n",
        "response = requests.get(csv_url)\n",
        "if response.status_code == 200:\n",
        "    # Read the CSV content from the response\n",
        "    csv_content = response.text\n",
        "    # Use StringIO to create a file-like object\n",
        "    csv_file = StringIO(csv_content)\n",
        "\n",
        "    # Process the CSV file\n",
        "    reader = csv.reader(csv_file)\n",
        "    for row in reader:\n",
        "        # Assuming each row is a list of strings\n",
        "        numbers_in_row = []\n",
        "        for item in row:\n",
        "            numbers_in_item = convert_strings_to_numbers(item)\n",
        "            numbers_in_row.extend(numbers_in_item)\n",
        "\n",
        "        # Sum the first two numbers in the row\n",
        "        sum_of_first_two_numbers = sum(numbers_in_row[:2])\n",
        "        print(\"Sum of the first two numbers in row:\", sum_of_first_two_numbers)\n",
        "else:\n",
        "    print(\"Failed to download the CSV file. Please check the URL.\")\n"
      ],
      "metadata": {
        "id": "FlO3LY2nr1om"
      },
      "execution_count": null,
      "outputs": []
    },
    {
      "cell_type": "markdown",
      "source": [
        "more stuff ripped"
      ],
      "metadata": {
        "id": "ix0UgBS2vOES"
      }
    },
    {
      "cell_type": "code",
      "source": [
        "import pandas as pd\n",
        "import requests\n",
        "import plotly.express as px\n",
        "\n",
        "# URL of the CSV file on GitHub\n",
        "csv_url = \"https://raw.githubusercontent.com/camdenlol/march-madness/main/mrachie%20madnoss%20graphie.csv\"\n",
        "\n",
        "# Download the CSV file from GitHub and read it into a DataFrame\n",
        "df = pd.read_csv(csv_url)\n",
        "\n",
        "# Convert values to numeric (assuming they are strings)\n",
        "df.iloc[:, 1:] = df.iloc[:, 1:].apply(pd.to_numeric, errors='coerce')\n",
        "\n",
        "# Sum the first two numbers in each row and store the result in a new column\n",
        "df['sum_of_first_two_numbers'] = df.iloc[:, 1:3].sum(axis=1)\n",
        "\n",
        "# Function to determine color based on sum of first two numbers\n",
        "def get_color(sum_of_first_two_numbers):\n",
        "    if sum_of_first_two_numbers == 17:\n",
        "        return 'red'\n",
        "    else:\n",
        "        return 'blue'  # Or any other color you prefer for non-matching rows\n",
        "\n",
        "# Apply the function to create a new column with colors\n",
        "df['color'] = df['sum_of_first_two_numbers'].apply(get_color)\n",
        "\n",
        "# Plot the treemap\n",
        "fig = px.treemap(df, path=['seeding matchup', 'opponent'], values='seeding matchup', color='color',\n",
        "                 color_discrete_map={'red': 'red', 'blue': 'blue'})  # Specify colors\n",
        "fig.show()\n"
      ],
      "metadata": {
        "id": "wq5OJzxXuTDz"
      },
      "execution_count": null,
      "outputs": []
    },
    {
      "cell_type": "markdown",
      "source": [
        "ight dr jacob idk what going on. i was able to convert the things into numbers, but idk how to get them to fit back into the graph. i think we are close."
      ],
      "metadata": {
        "id": "-Am782-PwrRO"
      }
    },
    {
      "cell_type": "code",
      "source": [],
      "metadata": {
        "id": "1CLvDErbvNXz"
      },
      "execution_count": null,
      "outputs": []
    }
  ]
}